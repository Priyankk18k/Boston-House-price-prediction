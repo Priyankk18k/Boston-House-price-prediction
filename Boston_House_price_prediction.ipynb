{
  "nbformat": 4,
  "nbformat_minor": 0,
  "metadata": {
    "colab": {
      "name": "Boston House price prediction.ipynb",
      "version": "0.3.2",
      "provenance": [],
      "include_colab_link": true
    }
  },
  "cells": [
    {
      "cell_type": "markdown",
      "metadata": {
        "id": "view-in-github",
        "colab_type": "text"
      },
      "source": [
        "[View in Colaboratory](https://colab.research.google.com/github/Priyankk18k/Boston-House-price-prediction/blob/master/Boston_House_price_prediction.ipynb)"
      ]
    },
    {
      "metadata": {
        "id": "pY-TvGhEoWfQ",
        "colab_type": "text"
      },
      "cell_type": "markdown",
      "source": [
        "## PROJECT -2 \n",
        "\n"
      ]
    },
    {
      "metadata": {
        "id": "Yc274rNGoJin",
        "colab_type": "text"
      },
      "cell_type": "markdown",
      "source": [
        "##                                         Predicting Boston Housing Prices"
      ]
    },
    {
      "metadata": {
        "id": "DK3KmhbHoQSp",
        "colab_type": "code",
        "colab": {
          "base_uri": "https://localhost:8080/",
          "height": 92
        },
        "outputId": "706d58ce-56f7-4c51-97e9-0e1a57c46d21"
      },
      "cell_type": "code",
      "source": [
        "import numpy as np\n",
        "import pandas as pd\n",
        "from sklearn.cross_validation import ShuffleSplit\n",
        "# pretty display for notebooks\n",
        "%matplotlib inline \n",
        "# Loading the housing DAtaset\n",
        "data=pd.read_csv('https://raw.githubusercontent.com/jessicayung/machine-learning-nd/master/p1-boston-housing/housing.csv')\n",
        "prices=data['MEDV']\n",
        "features=data.drop('MEDV',axis=1)\n",
        "print( \"Boston housing dataset has {} data points with {} variables each.\".format(*data.shape))"
      ],
      "execution_count": 1,
      "outputs": [
        {
          "output_type": "stream",
          "text": [
            "Boston housing dataset has 489 data points with 4 variables each.\n"
          ],
          "name": "stdout"
        },
        {
          "output_type": "stream",
          "text": [
            "/usr/local/lib/python2.7/dist-packages/sklearn/cross_validation.py:41: DeprecationWarning: This module was deprecated in version 0.18 in favor of the model_selection module into which all the refactored classes and functions are moved. Also note that the interface of the new CV iterators are different from that of this module. This module will be removed in 0.20.\n",
            "  \"This module will be removed in 0.20.\", DeprecationWarning)\n"
          ],
          "name": "stderr"
        }
      ]
    },
    {
      "metadata": {
        "id": "vtsAM6zH0F_m",
        "colab_type": "text"
      },
      "cell_type": "markdown",
      "source": [
        " We will need to separate the dataset into **features** and the **target** variable. The features, **'RM', 'LSTAT', and 'PTRATIO**', give us quantitative information about each data point. The target variable,** 'MEDV'**, will be the variable we seek to predict. **These are stored in features and prices, respectively.**"
      ]
    },
    {
      "metadata": {
        "id": "-Tgu_TRL0Le3",
        "colab_type": "code",
        "colab": {
          "base_uri": "https://localhost:8080/",
          "height": 198
        },
        "outputId": "89cd59bb-7eb7-4cad-b029-dfae75b417c8"
      },
      "cell_type": "code",
      "source": [
        "data.head()"
      ],
      "execution_count": 2,
      "outputs": [
        {
          "output_type": "execute_result",
          "data": {
            "text/html": [
              "<div>\n",
              "<style scoped>\n",
              "    .dataframe tbody tr th:only-of-type {\n",
              "        vertical-align: middle;\n",
              "    }\n",
              "\n",
              "    .dataframe tbody tr th {\n",
              "        vertical-align: top;\n",
              "    }\n",
              "\n",
              "    .dataframe thead th {\n",
              "        text-align: right;\n",
              "    }\n",
              "</style>\n",
              "<table border=\"1\" class=\"dataframe\">\n",
              "  <thead>\n",
              "    <tr style=\"text-align: right;\">\n",
              "      <th></th>\n",
              "      <th>RM</th>\n",
              "      <th>LSTAT</th>\n",
              "      <th>PTRATIO</th>\n",
              "      <th>MEDV</th>\n",
              "    </tr>\n",
              "  </thead>\n",
              "  <tbody>\n",
              "    <tr>\n",
              "      <th>0</th>\n",
              "      <td>6.575</td>\n",
              "      <td>4.98</td>\n",
              "      <td>15.3</td>\n",
              "      <td>504000.0</td>\n",
              "    </tr>\n",
              "    <tr>\n",
              "      <th>1</th>\n",
              "      <td>6.421</td>\n",
              "      <td>9.14</td>\n",
              "      <td>17.8</td>\n",
              "      <td>453600.0</td>\n",
              "    </tr>\n",
              "    <tr>\n",
              "      <th>2</th>\n",
              "      <td>7.185</td>\n",
              "      <td>4.03</td>\n",
              "      <td>17.8</td>\n",
              "      <td>728700.0</td>\n",
              "    </tr>\n",
              "    <tr>\n",
              "      <th>3</th>\n",
              "      <td>6.998</td>\n",
              "      <td>2.94</td>\n",
              "      <td>18.7</td>\n",
              "      <td>701400.0</td>\n",
              "    </tr>\n",
              "    <tr>\n",
              "      <th>4</th>\n",
              "      <td>7.147</td>\n",
              "      <td>5.33</td>\n",
              "      <td>18.7</td>\n",
              "      <td>760200.0</td>\n",
              "    </tr>\n",
              "  </tbody>\n",
              "</table>\n",
              "</div>"
            ],
            "text/plain": [
              "      RM  LSTAT  PTRATIO      MEDV\n",
              "0  6.575   4.98     15.3  504000.0\n",
              "1  6.421   9.14     17.8  453600.0\n",
              "2  7.185   4.03     17.8  728700.0\n",
              "3  6.998   2.94     18.7  701400.0\n",
              "4  7.147   5.33     18.7  760200.0"
            ]
          },
          "metadata": {
            "tags": []
          },
          "execution_count": 2
        }
      ]
    },
    {
      "metadata": {
        "id": "hHmy0F-q3N4B",
        "colab_type": "text"
      },
      "cell_type": "markdown",
      "source": [
        "## Calculating basic statistic"
      ]
    },
    {
      "metadata": {
        "id": "wONKqsjn0lZT",
        "colab_type": "code",
        "colab": {
          "base_uri": "https://localhost:8080/",
          "height": 145
        },
        "outputId": "3b9c2d37-a231-4f3c-d298-3fc65ce3e3d2"
      },
      "cell_type": "code",
      "source": [
        "# Minimum price of the data\n",
        "minimum_price = np.min(prices)\n",
        "\n",
        "# Maximum price of the data\n",
        "maximum_price = np.max(prices)\n",
        "\n",
        "# Mean price of the data\n",
        "mean_price = np.mean(prices)\n",
        "\n",
        "# Median price of the data\n",
        "median_price = np.median(prices)\n",
        "\n",
        "# Standard deviation of prices of the data\n",
        "std_price = np.std(prices)\n",
        "\n",
        "# Show the calculated statistics\n",
        "print \"Statistics for Boston housing dataset:\\n\"\n",
        "print \"Minimum price: ${:,.2f}\".format(minimum_price)\n",
        "print \"Maximum price: ${:,.2f}\".format(maximum_price)\n",
        "print \"Mean price: ${:,.2f}\".format(mean_price)\n",
        "print \"Median price ${:,.2f}\".format(median_price)\n",
        "print \"Standard deviation of prices: ${:,.2f}\".format(std_price)"
      ],
      "execution_count": 3,
      "outputs": [
        {
          "output_type": "stream",
          "text": [
            "Statistics for Boston housing dataset:\n",
            "\n",
            "Minimum price: $105,000.00\n",
            "Maximum price: $1,024,800.00\n",
            "Mean price: $454,342.94\n",
            "Median price $438,900.00\n",
            "Standard deviation of prices: $165,171.13\n"
          ],
          "name": "stdout"
        }
      ]
    },
    {
      "metadata": {
        "id": "GYkElnBg4AKD",
        "colab_type": "text"
      },
      "cell_type": "markdown",
      "source": [
        "Or we can do this by Describe function and we have to see only MEDV column because we have previously assigned  prices=data['MEDV']"
      ]
    },
    {
      "metadata": {
        "id": "EmETp5Pk3cUW",
        "colab_type": "code",
        "colab": {
          "base_uri": "https://localhost:8080/",
          "height": 288
        },
        "outputId": "6bf49cc1-bbed-4a00-adfb-d596a9ac1817"
      },
      "cell_type": "code",
      "source": [
        "data.describe()"
      ],
      "execution_count": 4,
      "outputs": [
        {
          "output_type": "execute_result",
          "data": {
            "text/html": [
              "<div>\n",
              "<style scoped>\n",
              "    .dataframe tbody tr th:only-of-type {\n",
              "        vertical-align: middle;\n",
              "    }\n",
              "\n",
              "    .dataframe tbody tr th {\n",
              "        vertical-align: top;\n",
              "    }\n",
              "\n",
              "    .dataframe thead th {\n",
              "        text-align: right;\n",
              "    }\n",
              "</style>\n",
              "<table border=\"1\" class=\"dataframe\">\n",
              "  <thead>\n",
              "    <tr style=\"text-align: right;\">\n",
              "      <th></th>\n",
              "      <th>RM</th>\n",
              "      <th>LSTAT</th>\n",
              "      <th>PTRATIO</th>\n",
              "      <th>MEDV</th>\n",
              "    </tr>\n",
              "  </thead>\n",
              "  <tbody>\n",
              "    <tr>\n",
              "      <th>count</th>\n",
              "      <td>489.000000</td>\n",
              "      <td>489.000000</td>\n",
              "      <td>489.000000</td>\n",
              "      <td>4.890000e+02</td>\n",
              "    </tr>\n",
              "    <tr>\n",
              "      <th>mean</th>\n",
              "      <td>6.240288</td>\n",
              "      <td>12.939632</td>\n",
              "      <td>18.516564</td>\n",
              "      <td>4.543429e+05</td>\n",
              "    </tr>\n",
              "    <tr>\n",
              "      <th>std</th>\n",
              "      <td>0.643650</td>\n",
              "      <td>7.081990</td>\n",
              "      <td>2.111268</td>\n",
              "      <td>1.653403e+05</td>\n",
              "    </tr>\n",
              "    <tr>\n",
              "      <th>min</th>\n",
              "      <td>3.561000</td>\n",
              "      <td>1.980000</td>\n",
              "      <td>12.600000</td>\n",
              "      <td>1.050000e+05</td>\n",
              "    </tr>\n",
              "    <tr>\n",
              "      <th>25%</th>\n",
              "      <td>5.880000</td>\n",
              "      <td>7.370000</td>\n",
              "      <td>17.400000</td>\n",
              "      <td>3.507000e+05</td>\n",
              "    </tr>\n",
              "    <tr>\n",
              "      <th>50%</th>\n",
              "      <td>6.185000</td>\n",
              "      <td>11.690000</td>\n",
              "      <td>19.100000</td>\n",
              "      <td>4.389000e+05</td>\n",
              "    </tr>\n",
              "    <tr>\n",
              "      <th>75%</th>\n",
              "      <td>6.575000</td>\n",
              "      <td>17.120000</td>\n",
              "      <td>20.200000</td>\n",
              "      <td>5.187000e+05</td>\n",
              "    </tr>\n",
              "    <tr>\n",
              "      <th>max</th>\n",
              "      <td>8.398000</td>\n",
              "      <td>37.970000</td>\n",
              "      <td>22.000000</td>\n",
              "      <td>1.024800e+06</td>\n",
              "    </tr>\n",
              "  </tbody>\n",
              "</table>\n",
              "</div>"
            ],
            "text/plain": [
              "               RM       LSTAT     PTRATIO          MEDV\n",
              "count  489.000000  489.000000  489.000000  4.890000e+02\n",
              "mean     6.240288   12.939632   18.516564  4.543429e+05\n",
              "std      0.643650    7.081990    2.111268  1.653403e+05\n",
              "min      3.561000    1.980000   12.600000  1.050000e+05\n",
              "25%      5.880000    7.370000   17.400000  3.507000e+05\n",
              "50%      6.185000   11.690000   19.100000  4.389000e+05\n",
              "75%      6.575000   17.120000   20.200000  5.187000e+05\n",
              "max      8.398000   37.970000   22.000000  1.024800e+06"
            ]
          },
          "metadata": {
            "tags": []
          },
          "execution_count": 4
        }
      ]
    },
    {
      "metadata": {
        "id": "4TMFqawJ4rgv",
        "colab_type": "code",
        "colab": {
          "base_uri": "https://localhost:8080/",
          "height": 280
        },
        "outputId": "4ce879eb-d035-4270-fd3a-da53599cee25"
      },
      "cell_type": "code",
      "source": [
        "# Boxplot of prices to get a sense of the data\n",
        "\n",
        "import matplotlib.pyplot as plt\n",
        "%matplotlib inline\n",
        "\n",
        "plt.title(\"Boston Home Prices\")\n",
        "plt.ylabel(\"Price (USD)\")\n",
        "plt.boxplot(prices)\n",
        "plt.show()\n"
      ],
      "execution_count": 5,
      "outputs": [
        {
          "output_type": "display_data",
          "data": {
            "image/png": "[encoded data removed]",
            "text/plain": [
              "<matplotlib.figure.Figure at 0x7fb5ced6f790>"
            ]
          },
          "metadata": {
            "tags": []
          }
        }
      ]
    },
    {
      "metadata": {
        "id": "4rkWvx9i3-hE",
        "colab_type": "text"
      },
      "cell_type": "markdown",
      "source": [
        "## Performance Metric\n",
        "The values for R2 range from 0 to 1, which captures the percentage of squared correlation between the predicted and actual values of the target variable. A model with an R2 of 0 always fails to predict the target variable, whereas a model with an R2 of 1 perfectly predicts the target variable. Any value between 0 and 1 indicates what percentage of the target variable, using this model, can be explained by the features. A model can be given a negative R2 as well, which indicates that the model is no better than one that naively predicts the mean of the target variable."
      ]
    },
    {
      "metadata": {
        "id": "vSkzv2pdngWP",
        "colab_type": "code",
        "colab": {}
      },
      "cell_type": "code",
      "source": [
        "from sklearn.metrics import r2_score\n",
        "def performance_metric(y_true,y_predict):\n",
        "  \"\"\"Calculates and returns the performance score between \n",
        "        true and predicted values based on the metric chosen.\"\"\"\n",
        "  score=r2_score(y_true,y_predict)\n",
        "  return score\n"
      ],
      "execution_count": 0,
      "outputs": []
    },
    {
      "metadata": {
        "id": "3FWZUEXQwCCz",
        "colab_type": "text"
      },
      "cell_type": "markdown",
      "source": [
        "##Coefficient of determination of a sample data"
      ]
    },
    {
      "metadata": {
        "id": "GENVKLdrni4Q",
        "colab_type": "code",
        "colab": {
          "base_uri": "https://localhost:8080/",
          "height": 35
        },
        "outputId": "63e4088e-332b-43bf-eef0-a58c7051082a"
      },
      "cell_type": "code",
      "source": [
        "# Calculating the performance of the sample model\n",
        "score=performance_metric([3, -0.5, 2, 7, 4.2], [2.5, 0.0, 2.1, 7.8, 5.3])\n",
        "print(\"Sample Model has a coefficient of determination, R^2, of {:.3f}.\").format(score)\n"
      ],
      "execution_count": 7,
      "outputs": [
        {
          "output_type": "stream",
          "text": [
            "Sample Model has a coefficient of determination, R^2, of 0.923.\n"
          ],
          "name": "stdout"
        }
      ]
    },
    {
      "metadata": {
        "id": "kWUReLaQxG9U",
        "colab_type": "text"
      },
      "cell_type": "markdown",
      "source": [
        "So now we will consider this model because :\n",
        "\n",
        "1-The model has a high** R^2 of 0.923**. This means a** 92.3%** percentage of the target variable can be explained by the features using the model. So the model is pretty good.\n",
        "\n",
        "2-The model also got the ordering of all five datapoints in the dataset correct."
      ]
    },
    {
      "metadata": {
        "id": "FEyzp_oVxU2W",
        "colab_type": "text"
      },
      "cell_type": "markdown",
      "source": [
        "## Shuffle and Split Data \n",
        "      Typically, the data is also shuffled into a random order when creating the training and testing subsets to remove any bias in the ordering of the dataset."
      ]
    },
    {
      "metadata": {
        "id": "aD6o7JRsxGFg",
        "colab_type": "code",
        "colab": {
          "base_uri": "https://localhost:8080/",
          "height": 35
        },
        "outputId": "7aa49e21-4786-4172-92eb-137143515222"
      },
      "cell_type": "code",
      "source": [
        "from sklearn.cross_validation import train_test_split\n",
        "#Shuffle and split the data into training and testing subsets\n",
        "X_train,X_test,y_train,y_test=train_test_split(features,prices,test_size=0.2,random_state=7)\n",
        "print('Training and Testing split was successful')"
      ],
      "execution_count": 8,
      "outputs": [
        {
          "output_type": "stream",
          "text": [
            "Training and Testing split was successful\n"
          ],
          "name": "stdout"
        }
      ]
    },
    {
      "metadata": {
        "id": "2fE4ad-OoGMe",
        "colab_type": "code",
        "colab": {
          "base_uri": "https://localhost:8080/",
          "height": 54
        },
        "outputId": "4a75b550-a20f-4f13-b4aa-c07fdd110fb7"
      },
      "cell_type": "code",
      "source": [
        "print \"Train shapes (X,y): \", X_train.shape, y_train.shape\n",
        "print \"Test shapes (X,y): \", X_test.shape, y_test.shape"
      ],
      "execution_count": 9,
      "outputs": [
        {
          "output_type": "stream",
          "text": [
            "Train shapes (X,y):  (391, 3) (391,)\n",
            "Test shapes (X,y):  (98, 3) (98,)\n"
          ],
          "name": "stdout"
        }
      ]
    },
    {
      "metadata": {
        "id": "i1pdw_yL2FL5",
        "colab_type": "text"
      },
      "cell_type": "markdown",
      "source": [
        "**Training and Testing** is important because \n",
        "\n",
        "1-It provides more reliable evaluation metrics and helps detect overfitting.\n",
        "\n",
        "2-If there was no training set, we wouldn't be able to train our model which would be bad because then our model would be purely based on (possibly random) initial values.\n",
        "\n",
        "3-If we had test our model on unseen data, we would have a better idea as to whether the model generalised and so whether it was actually that good. E.g. we may have had an accuracy_score = 0.6 on test data, realised our model wasn't generalised and tried another one."
      ]
    },
    {
      "metadata": {
        "id": "1v3nkYcRUpZE",
        "colab_type": "text"
      },
      "cell_type": "markdown",
      "source": [
        ""
      ]
    },
    {
      "metadata": {
        "id": "4V3aOundU_fj",
        "colab_type": "text"
      },
      "cell_type": "markdown",
      "source": [
        "## Fitting a Model"
      ]
    },
    {
      "metadata": {
        "id": "ujyq1iUr4HtB",
        "colab_type": "code",
        "colab": {
          "base_uri": "https://localhost:8080/",
          "height": 74
        },
        "outputId": "4fa7abd1-30b5-46d1-f1bf-5f9444311e0e"
      },
      "cell_type": "code",
      "source": [
        "# Import 'make_scorer', 'DecisionTreeRegressor', and 'GridSearchCV'\n",
        "from sklearn.metrics import make_scorer\n",
        "from sklearn.tree import DecisionTreeRegressor\n",
        "from sklearn.grid_search import GridSearchCV\n",
        "\n",
        "def fit_model(X, y):\n",
        "    \"\"\" Performs grid search over the 'max_depth' parameter for a \n",
        "        decision tree regressor trained on the input data [X, y]. \"\"\"\n",
        "\n",
        "    # Create cross-validation sets from the training data\n",
        "    # ShuffleSplit works iteratively compared to KFOLD\n",
        "    # It saves computation time when your dataset grows\n",
        "    # X.shape[0] is the total number of elements\n",
        "    # n_iter is the number of re-shuffling & splitting iterations.\n",
        "    cv_sets = ShuffleSplit(X.shape[0], n_iter = 10, test_size = 0.20, random_state = 0)\n",
        "\n",
        "    # Create a decision tree regressor object\n",
        "    # Instantiate\n",
        "    regressor = DecisionTreeRegressor()\n",
        "\n",
        "    #  Create a dictionary for the parameter 'max_depth' with a range from 1 to 10\n",
        "    params = {'max_depth':range(1,11)}\n",
        "\n",
        "    # Transform 'performance_metric' into a scoring function using 'make_scorer' \n",
        "    # We initially created performance_metric using R2_score\n",
        "    scoring_fnc = make_scorer(performance_metric)\n",
        "\n",
        "    # Create the grid search object\n",
        "    # You would realize we manually created each, including scoring_func using R^2\n",
        "    grid = GridSearchCV(regressor, params, cv=cv_sets, scoring=scoring_fnc)\n",
        "\n",
        "    # Fit the grid search object to the data to compute the optimal model\n",
        "    grid = grid.fit(X, y)\n",
        "\n",
        "    # Return the optimal model after fitting the data\n",
        "    return grid.best_estimator_"
      ],
      "execution_count": 10,
      "outputs": [
        {
          "output_type": "stream",
          "text": [
            "/usr/local/lib/python2.7/dist-packages/sklearn/grid_search.py:42: DeprecationWarning: This module was deprecated in version 0.18 in favor of the model_selection module into which all the refactored classes and functions are moved. This module will be removed in 0.20.\n",
            "  DeprecationWarning)\n"
          ],
          "name": "stderr"
        }
      ]
    },
    {
      "metadata": {
        "id": "1nEmycsUW1-A",
        "colab_type": "code",
        "colab": {}
      },
      "cell_type": "code",
      "source": [
        ""
      ],
      "execution_count": 0,
      "outputs": []
    },
    {
      "metadata": {
        "id": "j5_Br8yyXGtT",
        "colab_type": "text"
      },
      "cell_type": "markdown",
      "source": [
        "## Making Predictions\n",
        "Once a model has been trained on a given set of data, it can now be used to make predictions on new sets of input data. In the case of a decision tree regressor, the model has learned what the best questions to ask about the input data are, and can respond with a prediction for the target variable."
      ]
    },
    {
      "metadata": {
        "id": "-ATBYZytXI3v",
        "colab_type": "code",
        "colab": {
          "base_uri": "https://localhost:8080/",
          "height": 35
        },
        "outputId": "4031eff7-9442-42e9-b481-7ef79d8edcdd"
      },
      "cell_type": "code",
      "source": [
        "# Fit the training data to the model using grid search\n",
        "reg = fit_model(X_train, y_train)\n",
        "\n",
        "# Produce the value for 'max_depth'\n",
        "print \"Parameter 'max_depth' is {} for the optimal model.\".format(reg.get_params()['max_depth'])"
      ],
      "execution_count": 11,
      "outputs": [
        {
          "output_type": "stream",
          "text": [
            "Parameter 'max_depth' is 4 for the optimal model.\n"
          ],
          "name": "stdout"
        }
      ]
    },
    {
      "metadata": {
        "id": "bzsvBS_nXyxa",
        "colab_type": "code",
        "colab": {
          "base_uri": "https://localhost:8080/",
          "height": 235
        },
        "outputId": "39c23b6f-cac5-4044-aace-7e741627a7a2"
      },
      "cell_type": "code",
      "source": [
        "# Explanation of how we got the 'max_depth' param\n",
        "# First we fit the model\n",
        "# Then we use get_params() to get the optimal parameters\n",
        "# As you can see here, it's a dictionary\n",
        "reg = fit_model(X_train, y_train)\n",
        "reg.get_params()"
      ],
      "execution_count": 12,
      "outputs": [
        {
          "output_type": "execute_result",
          "data": {
            "text/plain": [
              "{'criterion': 'mse',\n",
              " 'max_depth': 4,\n",
              " 'max_features': None,\n",
              " 'max_leaf_nodes': None,\n",
              " 'min_impurity_decrease': 0.0,\n",
              " 'min_impurity_split': None,\n",
              " 'min_samples_leaf': 1,\n",
              " 'min_samples_split': 2,\n",
              " 'min_weight_fraction_leaf': 0.0,\n",
              " 'presort': False,\n",
              " 'random_state': None,\n",
              " 'splitter': 'best'}"
            ]
          },
          "metadata": {
            "tags": []
          },
          "execution_count": 12
        }
      ]
    },
    {
      "metadata": {
        "id": "mg0Ycjvhapmh",
        "colab_type": "code",
        "colab": {
          "base_uri": "https://localhost:8080/",
          "height": 35
        },
        "outputId": "2855471d-7153-4d10-cd07-c6b8f5246b19"
      },
      "cell_type": "code",
      "source": [
        "# We can access our value from reg.get_params(), a dictionary, using dict['key']\n",
        "reg.get_params()['max_depth']"
      ],
      "execution_count": 13,
      "outputs": [
        {
          "output_type": "execute_result",
          "data": {
            "text/plain": [
              "4"
            ]
          },
          "metadata": {
            "tags": []
          },
          "execution_count": 13
        }
      ]
    },
    {
      "metadata": {
        "id": "fnksks5UX8aM",
        "colab_type": "text"
      },
      "cell_type": "markdown",
      "source": [
        "## Predicting Selling Price\n"
      ]
    },
    {
      "metadata": {
        "id": "l_5UBigmZlbV",
        "colab_type": "code",
        "colab": {
          "base_uri": "https://localhost:8080/",
          "height": 72
        },
        "outputId": "2cbe0e97-0466-4880-9709-6683f1109199"
      },
      "cell_type": "code",
      "source": [
        "# Produce a matrix for client data\n",
        "client_data = [[5, 17, 15], # Client 1\n",
        "               [4, 32, 22], # Client 2\n",
        "               [8, 5, 12]]  # Client 3\n",
        "client_prices = []\n",
        "# Show predictions\n",
        "for i, price in enumerate(reg.predict(client_data)):\n",
        "    print \"Predicted selling price for Client {}'s home: ${:,.2f}\".format(i+1, price)\n",
        "    client_prices.append(price)\n",
        "    "
      ],
      "execution_count": 17,
      "outputs": [
        {
          "output_type": "stream",
          "text": [
            "Predicted selling price for Client 1's home: $407,232.00\n",
            "Predicted selling price for Client 2's home: $229,200.00\n",
            "Predicted selling price for Client 3's home: $979,300.00\n"
          ],
          "name": "stdout"
        }
      ]
    },
    {
      "metadata": {
        "id": "xFt4LWzTby1N",
        "colab_type": "text"
      },
      "cell_type": "markdown",
      "source": [
        "##Visualization"
      ]
    },
    {
      "metadata": {
        "id": "0epk6-Xx8rUR",
        "colab_type": "code",
        "colab": {
          "base_uri": "https://localhost:8080/",
          "height": 265
        },
        "outputId": "a1329413-36f3-4c19-d4c3-4b2fef6db28f"
      },
      "cell_type": "code",
      "source": [
        "import matplotlib.pyplot as plt\n",
        "plt.hist(prices, bins = 20)\n",
        "for price in reg.predict(client_data):\n",
        "    plt.axvline(price, lw = 5, c = 'r')"
      ],
      "execution_count": 18,
      "outputs": [
        {
          "output_type": "display_data",
          "data": {
            "image/png": "[encoded data removed]",
            "text/plain": [
              "<matplotlib.figure.Figure at 0x7fb5cd7ac750>"
            ]
          },
          "metadata": {
            "tags": []
          }
        }
      ]
    },
    {
      "metadata": {
        "id": "6JJr-5HNaCFh",
        "colab_type": "code",
        "colab": {
          "base_uri": "https://localhost:8080/",
          "height": 145
        },
        "outputId": "33980c86-da3b-4f7f-d72a-2c2ccfedaab2"
      },
      "cell_type": "code",
      "source": [
        "# Show the calculated statistics\n",
        "print \"Statistics for Boston housing dataset:\\n\"\n",
        "print \"Minimum price: ${:,.2f}\".format(minimum_price)\n",
        "print \"Maximum price: ${:,.2f}\".format(maximum_price)\n",
        "print \"Mean price: ${:,.2f}\".format(mean_price)\n",
        "print \"Median price ${:,.2f}\".format(median_price)\n",
        "print \"Standard deviation of prices: ${:,.2f}\".format(std_price)"
      ],
      "execution_count": 15,
      "outputs": [
        {
          "output_type": "stream",
          "text": [
            "Statistics for Boston housing dataset:\n",
            "\n",
            "Minimum price: $105,000.00\n",
            "Maximum price: $1,024,800.00\n",
            "Mean price: $454,342.94\n",
            "Median price $438,900.00\n",
            "Standard deviation of prices: $165,171.13\n"
          ],
          "name": "stdout"
        }
      ]
    },
    {
      "metadata": {
        "id": "yaMhQcc0hCVa",
        "colab_type": "code",
        "colab": {
          "base_uri": "https://localhost:8080/",
          "height": 72
        },
        "outputId": "f4c0b88a-da9b-4264-b2ff-522c7ca08cc2"
      },
      "cell_type": "code",
      "source": [
        "print \"Stds away from the mean (Client 1): \", (client_prices[0]-mean_price)/std_price\n",
        "print \"Stds away from the mean (Client 2): \", (client_prices[1]-mean_price)/std_price\n",
        "print \"Stds away from the mean (Client 3): \", (client_prices[2]-mean_price)/std_price"
      ],
      "execution_count": 16,
      "outputs": [
        {
          "output_type": "stream",
          "text": [
            "Stds away from the mean (Client 1):  -0.2852250532208899\n",
            "Stds away from the mean (Client 2):  -1.3630889531376638\n",
            "Stds away from the mean (Client 3):  3.1782615418720654\n"
          ],
          "name": "stdout"
        }
      ]
    },
    {
      "metadata": {
        "id": "la5xQQiVhNTV",
        "colab_type": "code",
        "colab": {}
      },
      "cell_type": "code",
      "source": [
        ""
      ],
      "execution_count": 0,
      "outputs": []
    }
  ]
}